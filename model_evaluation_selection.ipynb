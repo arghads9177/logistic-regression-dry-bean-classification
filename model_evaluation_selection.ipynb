{
 "cells": [
  {
   "cell_type": "markdown",
   "metadata": {
    "id": "G0KoUjgPbcgy"
   },
   "source": [
    "# Dry Beans Classification\n",
    "\n",
    "## Source of Data\n",
    "\n",
    "> https://www.kaggle.com/datasets/muratkokludataset/dry-bean-dataset\n",
    "\n",
    "## About Dataset\n",
    "\n",
    "**Data Set Name**: Dry Bean Dataset\n",
    "\n",
    "**Abstract**:\n",
    "\n",
    "Images of 13,611 grains of 7 different registered dry beans were taken with a high-resolution camera. A total of 16 features; 12 dimensions and 4 shape forms, were obtained from the grains.\n",
    "\n",
    "**Relevant Information:**\n",
    "\n",
    "Seven different types of dry beans were used in this research, taking into account the features such as form, shape, type, and structure by the market situation. A computer vision system was developed to distinguish seven different registered varieties of dry beans with similar features in order to obtain uniform seed classification. For the classification model, images of 13,611 grains of 7 different registered dry beans were taken with a high-resolution camera. Bean images obtained by computer vision system were subjected to segmentation and feature extraction stages, and a total of 16 features; 12 dimensions and 4 shape forms, were obtained from the grains.\n",
    "\n",
    "## Data Dictioary\n",
    "\n",
    "* **Area (A)**: The area of a bean zone and the number of pixels within its boundaries.\n",
    "* **Perimeter (P)**: Bean circumference is defined as the length of its border.\n",
    "* **Major axis length (L)**: The distance between the ends of the longest line that can be drawn from a bean.\n",
    "* **Minor axis length (l)**: The longest line that can be drawn from the bean while standing perpendicular to the main axis.\n",
    "* **Aspect ratio (K)**: Defines the relationship between L and l.\n",
    "* **Eccentricity (Ec)**: Eccentricity of the ellipse having the same moments as the region.\n",
    "* **Convex area (C)**: Number of pixels in the smallest convex polygon that can contain the area of a bean seed.\n",
    "* **Equivalent diameter (Ed)**: The diameter of a circle having the same area as a bean seed area.\n",
    "* **Extent (Ex)**: The ratio of the pixels in the bounding box to the bean area.\n",
    "* **Solidity (S)**: Also known as convexity. The ratio of the pixels in the convex shell to those found in beans.\n",
    "* **Roundness (R)**: Calculated with the following formula: (4piA)/(P^2)\n",
    "* **Compactness (CO)**: Measures the roundness of an object: Ed/L\n",
    "* **ShapeFactor1 (SF1)**\n",
    "* **ShapeFactor2 (SF2)**\n",
    "* **ShapeFactor3 (SF3)**\n",
    "* **ShapeFactor4 (SF4)**\n",
    "* **Class**: (Seker, Barbunya, Bombay, Cali, Dermosan, Horoz and Sira)\n",
    "\n",
    "\n",
    "## Problem Statement\n",
    "\n",
    "1. **Model Training**: The objective of classification is to evaluate the class of dry beans.\n",
    "2. **Model Evaluation**: The objective of model evaluation is to evaluate the peroformance of the trained model using accuracy, precision, recall ans F1 score\n",
    "3. **Hyperparameter Tuning** The objective of hyperparameter tuning is to find the optimal model by setting different hyperparameters of the model."
   ]
  },
  {
   "cell_type": "markdown",
   "metadata": {
    "id": "zpF4xYFQcV5-"
   },
   "source": [
    "## Load Libraries"
   ]
  },
  {
   "cell_type": "code",
   "execution_count": 19,
   "metadata": {
    "id": "7msUNgGfXAwy"
   },
   "outputs": [],
   "source": [
    "# Load General Libraries\n",
    "import pandas as pd\n",
    "import numpy as np\n",
    "import warnings\n",
    "\n",
    "# Preprocessing libraries\n",
    "from sklearn.model_selection import train_test_split\n",
    "from sklearn.preprocessing import StandardScaler\n",
    "from sklearn.preprocessing import MinMaxScaler\n",
    "\n",
    "# Load Model Libraries\n",
    "from sklearn.linear_model import LogisticRegression\n",
    "\n",
    "# Hyperparameter tuning Labraries\n",
    "from sklearn.model_selection import GridSearchCV\n",
    "\n",
    "# Load metrics libraries\n",
    "from sklearn.metrics import accuracy_score, precision_score, recall_score, f1_score"
   ]
  },
  {
   "cell_type": "markdown",
   "metadata": {},
   "source": [
    "### Settings"
   ]
  },
  {
   "cell_type": "code",
   "execution_count": 20,
   "metadata": {},
   "outputs": [],
   "source": [
    "warnings.filterwarnings(\"ignore\")"
   ]
  },
  {
   "cell_type": "markdown",
   "metadata": {
    "id": "3JsMomhFme5X"
   },
   "source": [
    "## Load Dataset"
   ]
  },
  {
   "cell_type": "code",
   "execution_count": 34,
   "metadata": {
    "id": "wvAgbE9Je9yI"
   },
   "outputs": [],
   "source": [
    "# Load Data\n",
    "# file_path = \"db_class_selected.csv\"\n",
    "file_path = \"db_class_oversampled.csv\"\n",
    "df = pd.read_csv(file_path)"
   ]
  },
  {
   "cell_type": "code",
   "execution_count": 36,
   "metadata": {
    "colab": {
     "base_uri": "https://localhost:8080/",
     "height": 226
    },
    "executionInfo": {
     "elapsed": 19,
     "status": "ok",
     "timestamp": 1721275249784,
     "user": {
      "displayName": "Argha DeySarkar",
      "userId": "13323187357231917427"
     },
     "user_tz": -330
    },
    "id": "CqihNAz1nBf6",
    "outputId": "3df73e74-60ff-4c5d-8ea4-ad28cb926ae5"
   },
   "outputs": [
    {
     "data": {
      "text/html": [
       "<div>\n",
       "<style scoped>\n",
       "    .dataframe tbody tr th:only-of-type {\n",
       "        vertical-align: middle;\n",
       "    }\n",
       "\n",
       "    .dataframe tbody tr th {\n",
       "        vertical-align: top;\n",
       "    }\n",
       "\n",
       "    .dataframe thead th {\n",
       "        text-align: right;\n",
       "    }\n",
       "</style>\n",
       "<table border=\"1\" class=\"dataframe\">\n",
       "  <thead>\n",
       "    <tr style=\"text-align: right;\">\n",
       "      <th></th>\n",
       "      <th>Area</th>\n",
       "      <th>Perimeter</th>\n",
       "      <th>MajorAxisLength</th>\n",
       "      <th>MinorAxisLength</th>\n",
       "      <th>AspectRation</th>\n",
       "      <th>Eccentricity</th>\n",
       "      <th>ConvexArea</th>\n",
       "      <th>EquivDiameter</th>\n",
       "      <th>Extent</th>\n",
       "      <th>roundness</th>\n",
       "      <th>Compactness</th>\n",
       "      <th>ShapeFactor3</th>\n",
       "      <th>Class</th>\n",
       "    </tr>\n",
       "  </thead>\n",
       "  <tbody>\n",
       "    <tr>\n",
       "      <th>0</th>\n",
       "      <td>28395</td>\n",
       "      <td>610.291</td>\n",
       "      <td>208.178117</td>\n",
       "      <td>173.888747</td>\n",
       "      <td>1.197191</td>\n",
       "      <td>0.549812</td>\n",
       "      <td>28715</td>\n",
       "      <td>190.141097</td>\n",
       "      <td>0.763923</td>\n",
       "      <td>0.958027</td>\n",
       "      <td>0.913358</td>\n",
       "      <td>0.834222</td>\n",
       "      <td>5</td>\n",
       "    </tr>\n",
       "    <tr>\n",
       "      <th>1</th>\n",
       "      <td>28734</td>\n",
       "      <td>638.018</td>\n",
       "      <td>200.524796</td>\n",
       "      <td>182.734419</td>\n",
       "      <td>1.097356</td>\n",
       "      <td>0.411785</td>\n",
       "      <td>29172</td>\n",
       "      <td>191.272750</td>\n",
       "      <td>0.783968</td>\n",
       "      <td>0.887034</td>\n",
       "      <td>0.953861</td>\n",
       "      <td>0.909851</td>\n",
       "      <td>5</td>\n",
       "    </tr>\n",
       "    <tr>\n",
       "      <th>2</th>\n",
       "      <td>29380</td>\n",
       "      <td>624.110</td>\n",
       "      <td>212.826130</td>\n",
       "      <td>175.931143</td>\n",
       "      <td>1.209713</td>\n",
       "      <td>0.562727</td>\n",
       "      <td>29690</td>\n",
       "      <td>193.410904</td>\n",
       "      <td>0.778113</td>\n",
       "      <td>0.947849</td>\n",
       "      <td>0.908774</td>\n",
       "      <td>0.825871</td>\n",
       "      <td>5</td>\n",
       "    </tr>\n",
       "    <tr>\n",
       "      <th>3</th>\n",
       "      <td>30008</td>\n",
       "      <td>645.884</td>\n",
       "      <td>210.557999</td>\n",
       "      <td>182.516516</td>\n",
       "      <td>1.153638</td>\n",
       "      <td>0.498616</td>\n",
       "      <td>30724</td>\n",
       "      <td>195.467062</td>\n",
       "      <td>0.782681</td>\n",
       "      <td>0.903936</td>\n",
       "      <td>0.928329</td>\n",
       "      <td>0.861794</td>\n",
       "      <td>5</td>\n",
       "    </tr>\n",
       "    <tr>\n",
       "      <th>4</th>\n",
       "      <td>30140</td>\n",
       "      <td>620.134</td>\n",
       "      <td>201.847882</td>\n",
       "      <td>190.279279</td>\n",
       "      <td>1.060798</td>\n",
       "      <td>0.333680</td>\n",
       "      <td>30417</td>\n",
       "      <td>195.896503</td>\n",
       "      <td>0.773098</td>\n",
       "      <td>0.984877</td>\n",
       "      <td>0.970516</td>\n",
       "      <td>0.941900</td>\n",
       "      <td>5</td>\n",
       "    </tr>\n",
       "  </tbody>\n",
       "</table>\n",
       "</div>"
      ],
      "text/plain": [
       "    Area  Perimeter  MajorAxisLength  MinorAxisLength  AspectRation  \\\n",
       "0  28395    610.291       208.178117       173.888747      1.197191   \n",
       "1  28734    638.018       200.524796       182.734419      1.097356   \n",
       "2  29380    624.110       212.826130       175.931143      1.209713   \n",
       "3  30008    645.884       210.557999       182.516516      1.153638   \n",
       "4  30140    620.134       201.847882       190.279279      1.060798   \n",
       "\n",
       "   Eccentricity  ConvexArea  EquivDiameter    Extent  roundness  Compactness  \\\n",
       "0      0.549812       28715     190.141097  0.763923   0.958027     0.913358   \n",
       "1      0.411785       29172     191.272750  0.783968   0.887034     0.953861   \n",
       "2      0.562727       29690     193.410904  0.778113   0.947849     0.908774   \n",
       "3      0.498616       30724     195.467062  0.782681   0.903936     0.928329   \n",
       "4      0.333680       30417     195.896503  0.773098   0.984877     0.970516   \n",
       "\n",
       "   ShapeFactor3  Class  \n",
       "0      0.834222      5  \n",
       "1      0.909851      5  \n",
       "2      0.825871      5  \n",
       "3      0.861794      5  \n",
       "4      0.941900      5  "
      ]
     },
     "execution_count": 36,
     "metadata": {},
     "output_type": "execute_result"
    }
   ],
   "source": [
    "# Show 1st 5 rows\n",
    "df.head()"
   ]
  },
  {
   "cell_type": "markdown",
   "metadata": {
    "id": "tsMf6WfVv-89"
   },
   "source": [
    "## Split the Data"
   ]
  },
  {
   "cell_type": "code",
   "execution_count": 37,
   "metadata": {
    "id": "wVwQKIiLn5is"
   },
   "outputs": [],
   "source": [
    "# Separate independent and target features\n",
    "X= df.iloc[:, :-1]\n",
    "y = df.iloc[:, -1]"
   ]
  },
  {
   "cell_type": "code",
   "execution_count": 38,
   "metadata": {
    "id": "dDLR-6A5n5R-"
   },
   "outputs": [],
   "source": [
    "# Split training and testing data\n",
    "X_train, X_test, y_train, y_test = train_test_split(X, y, test_size= 0.2, random_state= 42)"
   ]
  },
  {
   "cell_type": "code",
   "execution_count": 39,
   "metadata": {
    "id": "PlaYK-fBuY3C"
   },
   "outputs": [],
   "source": [
    "# Scaling the data(Standardize)\n",
    "# sc = StandardScaler()\n",
    "# X_train = sc.fit_transform(X_train)\n",
    "# X_test = sc.transform(X_test)"
   ]
  },
  {
   "cell_type": "code",
   "execution_count": 40,
   "metadata": {
    "id": "aNXnaVZnADau"
   },
   "outputs": [],
   "source": [
    "# Scaling the data(Normalize)\n",
    "ms = MinMaxScaler()\n",
    "X_train= ms.fit_transform(X_train)\n",
    "X_test = ms.transform(X_test)"
   ]
  },
  {
   "cell_type": "markdown",
   "metadata": {
    "id": "fT68l119wC5k"
   },
   "source": [
    "## Model Building and Evaluation"
   ]
  },
  {
   "cell_type": "code",
   "execution_count": 41,
   "metadata": {
    "id": "5laIBGEznG4a"
   },
   "outputs": [],
   "source": [
    "def build_evaluate(model):\n",
    "    # Train the model\n",
    "    model.fit(X_train, y_train)\n",
    "\n",
    "    # Predict\n",
    "    y_train_pred = model.predict(X_train)\n",
    "    y_test_pred= model.predict(X_test)\n",
    "\n",
    "    # Evaluate scores\n",
    "    print(\"=\" * 60)\n",
    "    print(\"Model Evaluation on Train Data\")\n",
    "    print(\"=\" * 60)\n",
    "    print(f\"Accuracy: {accuracy_score(y_train, y_train_pred): .2f}\")\n",
    "    print(f\"Precision: {precision_score(y_train, y_train_pred, average='macro'): .2f}\")\n",
    "    print(f\"Recall: {recall_score(y_train, y_train_pred, average='macro'): .2f}\")\n",
    "    print(f\"F1 Score: {f1_score(y_train, y_train_pred, average='macro'): .2f}\")\n",
    "    print(\"=\" * 60)\n",
    "    print(\"Model Evaluation on Test Data\")\n",
    "    print(\"=\" * 60)\n",
    "    print(f\"Accuracy: {accuracy_score(y_test, y_test_pred): .2f}\")\n",
    "    print(f\"Precision: {precision_score(y_test, y_test_pred, average='macro'): .2f}\")\n",
    "    print(f\"Recall: {recall_score(y_test, y_test_pred, average='macro'): .2f}\")\n",
    "    print(f\"F1 Score: {f1_score(y_test, y_test_pred, average='macro'): .2f}\")"
   ]
  },
  {
   "cell_type": "code",
   "execution_count": 42,
   "metadata": {
    "colab": {
     "base_uri": "https://localhost:8080/"
    },
    "executionInfo": {
     "elapsed": 718,
     "status": "ok",
     "timestamp": 1721275380642,
     "user": {
      "displayName": "Argha DeySarkar",
      "userId": "13323187357231917427"
     },
     "user_tz": -330
    },
    "id": "RaRThTZDplT1",
    "outputId": "d1738f06-9be3-46ef-ed16-06d48846acf2"
   },
   "outputs": [
    {
     "name": "stdout",
     "output_type": "stream",
     "text": [
      "============================================================\n",
      "Model Evaluation on Train Data\n",
      "============================================================\n",
      "Accuracy:  0.93\n",
      "Precision:  0.93\n",
      "Recall:  0.93\n",
      "F1 Score:  0.93\n",
      "============================================================\n",
      "Model Evaluation on Test Data\n",
      "============================================================\n",
      "Accuracy:  0.93\n",
      "Precision:  0.93\n",
      "Recall:  0.93\n",
      "F1 Score:  0.93\n"
     ]
    }
   ],
   "source": [
    "# Try Logistic Regression\n",
    "lr = LogisticRegression()\n",
    "build_evaluate(lr)"
   ]
  },
  {
   "cell_type": "markdown",
   "metadata": {
    "id": "yrsrNAU-wLBf"
   },
   "source": [
    "## Hyperparameter Tuning"
   ]
  },
  {
   "cell_type": "code",
   "execution_count": 43,
   "metadata": {
    "id": "Rn_dDgBHBf2E"
   },
   "outputs": [],
   "source": [
    "def tune_hyperparameter_gs(model, param):\n",
    "  # Setup tuner\n",
    "  gs = GridSearchCV(estimator= model,\n",
    "                    param_grid= param,\n",
    "                    cv= 5,\n",
    "                    verbose= 1)\n",
    "  # Train the model\n",
    "  gs.fit(X_train, y_train)\n",
    "\n",
    "  print(f\"Best Score:{gs.best_score_: .2f}\")\n",
    "\n",
    "  return gs.best_params_"
   ]
  },
  {
   "cell_type": "code",
   "execution_count": 44,
   "metadata": {
    "colab": {
     "base_uri": "https://localhost:8080/"
    },
    "executionInfo": {
     "elapsed": 177367,
     "status": "ok",
     "timestamp": 1721275755474,
     "user": {
      "displayName": "Argha DeySarkar",
      "userId": "13323187357231917427"
     },
     "user_tz": -330
    },
    "id": "1gnqUBkvy0HC",
    "outputId": "e1732f39-00a0-4714-dbf2-64110edef3cb"
   },
   "outputs": [
    {
     "name": "stdout",
     "output_type": "stream",
     "text": [
      "Fitting 5 folds for each of 54 candidates, totalling 270 fits\n",
      "Best Score: 0.94\n",
      "{'max_iter': 800, 'penalty': 'none', 'solver': 'lbfgs'}\n"
     ]
    }
   ],
   "source": [
    "param_dict= {\n",
    "    \"penalty\": [\"l1\", \"l2\", \"none\"],\n",
    "    \"max_iter\": [100, 150, 200, 300, 500, 800],\n",
    "    \"solver\": [\"lbfgs\", \"liblinear\", \"sag\"]\n",
    "}\n",
    "lr = LogisticRegression()\n",
    "best_params = tune_hyperparameter_gs(lr, param_dict)\n",
    "print(best_params)"
   ]
  },
  {
   "cell_type": "code",
   "execution_count": 45,
   "metadata": {
    "colab": {
     "base_uri": "https://localhost:8080/"
    },
    "id": "qkROegPR0twb",
    "outputId": "7d0db400-4b60-42db-931c-32f093c47ba1"
   },
   "outputs": [
    {
     "name": "stdout",
     "output_type": "stream",
     "text": [
      "============================================================\n",
      "Model Evaluation on Train Data\n",
      "============================================================\n",
      "Accuracy:  0.94\n",
      "Precision:  0.94\n",
      "Recall:  0.94\n",
      "F1 Score:  0.94\n",
      "============================================================\n",
      "Model Evaluation on Test Data\n",
      "============================================================\n",
      "Accuracy:  0.94\n",
      "Precision:  0.94\n",
      "Recall:  0.94\n",
      "F1 Score:  0.94\n"
     ]
    }
   ],
   "source": [
    "model = LogisticRegression(**best_params)\n",
    "build_evaluate(model)"
   ]
  },
  {
   "cell_type": "code",
   "execution_count": null,
   "metadata": {
    "id": "7tWaBPAdCjcN"
   },
   "outputs": [],
   "source": []
  }
 ],
 "metadata": {
  "colab": {
   "provenance": []
  },
  "kernelspec": {
   "display_name": "Python 3 (ipykernel)",
   "language": "python",
   "name": "python3"
  },
  "language_info": {
   "codemirror_mode": {
    "name": "ipython",
    "version": 3
   },
   "file_extension": ".py",
   "mimetype": "text/x-python",
   "name": "python",
   "nbconvert_exporter": "python",
   "pygments_lexer": "ipython3",
   "version": "3.11.9"
  }
 },
 "nbformat": 4,
 "nbformat_minor": 4
}
